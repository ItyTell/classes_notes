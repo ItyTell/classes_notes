{
 "cells": [
  {
   "cell_type": "code",
   "execution_count": 1,
   "metadata": {},
   "outputs": [],
   "source": [
    "import numpy as np\n",
    "import matplotlib.pyplot as plt\n",
    "import sympy as sp"
   ]
  },
  {
   "cell_type": "code",
   "execution_count": 2,
   "metadata": {},
   "outputs": [],
   "source": [
    "A = 1\n",
    "B = 1\n",
    "omega = np.pi\n",
    "M = 10\n",
    "N = 10\n",
    "h = 1 / M"
   ]
  },
  {
   "cell_type": "code",
   "execution_count": 3,
   "metadata": {},
   "outputs": [],
   "source": [
    "x_1, x_2 = sp.symbols(\"x_1, x_2\")\n",
    "u_0_x_2 = 0\n",
    "u_1_x_2 = A*sp.exp(B*x_2) * sp.sin(omega)\n",
    "u_x_1_0 = A*sp.sin(omega * x_1)\n",
    "u_x_1_1 = A*sp.exp(B) * sp.sin(omega* x_1)\n",
    "pfi = A * sp.exp(B * x_2) * (omega**2 - B**2)*sp.sin(x_1 * omega)"
   ]
  },
  {
   "cell_type": "code",
   "execution_count": 4,
   "metadata": {},
   "outputs": [],
   "source": [
    "u = A * sp.exp(B*x_2) * sp.sin(omega * x_1)"
   ]
  },
  {
   "cell_type": "code",
   "execution_count": 5,
   "metadata": {},
   "outputs": [],
   "source": [
    "Y = [[u.subs({\"x_1\":(i+1)* h, \"x_2\": j * h}) for i in range(M-1)] for j in range(N + 1)]"
   ]
  },
  {
   "cell_type": "code",
   "execution_count": 6,
   "metadata": {},
   "outputs": [],
   "source": [
    "du = sp.diff(u, x_1, x_1)"
   ]
  },
  {
   "cell_type": "code",
   "execution_count": 7,
   "metadata": {},
   "outputs": [],
   "source": [
    "CY = [[du.subs({\"x_1\": (i+1)*h,\"x_2\": j*h })for i in range (M-1)]for j in range(N+1)]"
   ]
  },
  {
   "cell_type": "code",
   "execution_count": 8,
   "metadata": {},
   "outputs": [],
   "source": [
    "F = [[h*h * pfi.subs({\"x_1\":(i+1)*h, \"x_2\": (j+1)*h}) for i in range (M-1)] for j in range(N-1)]"
   ]
  },
  {
   "cell_type": "code",
   "execution_count": 9,
   "metadata": {},
   "outputs": [],
   "source": [
    "for j in range(N-1):\n",
    "    F[j][0] = h*h*(pfi.subs({\"x_1\": h, \"x_2\": j*h}) + u.subs({\"x_1\": 0, \"x_2\": j*h}) / h / h)\n",
    "    F[j][-1] = h*h*(pfi.subs({\"x_1\": h*(M-1), \"x_2\": j*h}) + u.subs({\"x_1\": h*M, \"x_2\": j*h}) / h / h)"
   ]
  },
  {
   "cell_type": "code",
   "execution_count": 10,
   "metadata": {},
   "outputs": [],
   "source": [
    "F0 = [u.subs({\"x_1\": i*h+h, \"x_2\": 0})for i in range(M-1)]\n",
    "F_n = [u.subs({\"x_1\": i*h+h, \"x_2\": N * h})for i in range(M-1)]"
   ]
  },
  {
   "cell_type": "code",
   "execution_count": 11,
   "metadata": {},
   "outputs": [],
   "source": [
    "F.insert(0, F0)"
   ]
  },
  {
   "cell_type": "code",
   "execution_count": 12,
   "metadata": {},
   "outputs": [],
   "source": [
    "F.insert(-1, F_n)"
   ]
  },
  {
   "cell_type": "code",
   "execution_count": 13,
   "metadata": {},
   "outputs": [],
   "source": [
    "q_0 = F"
   ]
  },
  {
   "cell_type": "code",
   "execution_count": null,
   "metadata": {},
   "outputs": [],
   "source": []
  }
 ],
 "metadata": {
  "kernelspec": {
   "display_name": "base",
   "language": "python",
   "name": "python3"
  },
  "language_info": {
   "codemirror_mode": {
    "name": "ipython",
    "version": 3
   },
   "file_extension": ".py",
   "mimetype": "text/x-python",
   "name": "python",
   "nbconvert_exporter": "python",
   "pygments_lexer": "ipython3",
   "version": "3.11.5"
  }
 },
 "nbformat": 4,
 "nbformat_minor": 2
}
